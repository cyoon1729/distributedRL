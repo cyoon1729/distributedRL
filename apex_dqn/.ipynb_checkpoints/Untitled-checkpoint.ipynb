{
 "cells": [
  {
   "cell_type": "code",
   "execution_count": 1,
   "metadata": {},
   "outputs": [
    {
     "name": "stderr",
     "output_type": "stream",
     "text": [
      "2020-05-22 10:34:38,641\tINFO resource_spec.py:212 -- Starting Ray with 33.89 GiB memory available for workers and up to 16.95 GiB for objects. You can adjust these settings with ray.init(memory=<bytes>, object_store_memory=<bytes>).\n",
      "2020-05-22 10:34:39,038\tINFO services.py:1170 -- View the Ray dashboard at \u001b[1m\u001b[32mlocalhost:8266\u001b[39m\u001b[22m\n"
     ]
    },
    {
     "data": {
      "text/plain": [
       "{'node_ip_address': '192.168.0.185',\n",
       " 'raylet_ip_address': '192.168.0.185',\n",
       " 'redis_address': '192.168.0.185:30735',\n",
       " 'object_store_address': '/tmp/ray/session_2020-05-22_10-34-38_640790_29275/sockets/plasma_store',\n",
       " 'raylet_socket_name': '/tmp/ray/session_2020-05-22_10-34-38_640790_29275/sockets/raylet',\n",
       " 'webui_url': 'localhost:8266',\n",
       " 'session_dir': '/tmp/ray/session_2020-05-22_10-34-38_640790_29275'}"
      ]
     },
     "execution_count": 1,
     "metadata": {},
     "output_type": "execute_result"
    }
   ],
   "source": [
    "import ray\n",
    "ray.init()"
   ]
  },
  {
   "cell_type": "code",
   "execution_count": null,
   "metadata": {},
   "outputs": [],
   "source": [
    "import numpy as np\n",
    "\n",
    "@ray.remote\n",
    "class SendWorker(object):\n",
    "    def __init__(self, worker_id):\n",
    "        self.worker_id = worker_id\n",
    "    \n",
    "    def send(self):\n",
    "        while True:\n",
    "            x = np.random.rand(1, 3)\n",
    "            x_id = ray.put(x)\n",
    "\n",
    "@ray.remote\n",
    "class RecvWorker(object):\n",
    "    def __init__(self, worker_id):\n",
    "        self.worker_id = worker_id\n",
    "    \n",
    "    def recv(self):\n",
    "        while True:\n",
    "            x = ray.get(x_id)\n",
    "            print(x)\n",
    "            \n",
    "class WorkerSet:\n",
    "    def __init__(self):\n",
    "        self.object_id = None:\n",
    "            \n",
    "    @ray.remote\n",
    "    def send(self):\n",
    "        print(\"send starting....\")\n",
    "        while True:\n",
    "            msg = np.random.rand(1, 3)\n",
    "            print(msg)\n",
    "            self.object_id = ray.put(msg)\n",
    "    \n",
    "    @ray.remote\n",
    "    def recv(self):\n",
    "#         def get_msg():\n",
    "#             return await sekf.object_id\n",
    "        print(\"recv starting....\")\n",
    "        while True:\n",
    "            msg = ray.get(self.object_id)\n",
    "            print(msg)"
   ]
  },
  {
   "cell_type": "code",
   "execution_count": null,
   "metadata": {},
   "outputs": [],
   "source": [
    "np.random.rand(1, 3)"
   ]
  },
  {
   "cell_type": "code",
   "execution_count": null,
   "metadata": {},
   "outputs": [],
   "source": [
    "workers = WorkerSet()"
   ]
  },
  {
   "cell_type": "code",
   "execution_count": null,
   "metadata": {},
   "outputs": [],
   "source": [
    "workers.send.remote()\n",
    "    \n",
    "# ray.wait([workers.send.remote(), workers.recv.remote()])"
   ]
  },
  {
   "cell_type": "code",
   "execution_count": null,
   "metadata": {},
   "outputs": [],
   "source": []
  }
 ],
 "metadata": {
  "kernelspec": {
   "display_name": "tips",
   "language": "python",
   "name": "tips"
  },
  "language_info": {
   "codemirror_mode": {
    "name": "ipython",
    "version": 3
   },
   "file_extension": ".py",
   "mimetype": "text/x-python",
   "name": "python",
   "nbconvert_exporter": "python",
   "pygments_lexer": "ipython3",
   "version": "3.6.9"
  }
 },
 "nbformat": 4,
 "nbformat_minor": 2
}
